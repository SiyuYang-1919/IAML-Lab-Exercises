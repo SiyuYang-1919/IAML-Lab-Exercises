{
 "metadata": {
  "language_info": {
   "codemirror_mode": {
    "name": "ipython",
    "version": 3
   },
   "file_extension": ".py",
   "mimetype": "text/x-python",
   "name": "python",
   "nbconvert_exporter": "python",
   "pygments_lexer": "ipython3",
   "version": "3.8.5-final"
  },
  "orig_nbformat": 2,
  "kernelspec": {
   "name": "python3",
   "display_name": "Python 3.8.5 64-bit ('base': conda)",
   "metadata": {
    "interpreter": {
     "hash": "dca0ade3e726a953b501b15e8e990130d2b7799f14cfd9f4271676035ebe5511"
    }
   }
  }
 },
 "nbformat": 4,
 "nbformat_minor": 2,
 "cells": [
  {
   "source": [
    "## 1. Algorithm\n",
    "### 1.1 Intuition\n",
    "<p align=\"center\">\n",
    "<img src=images/GMM1.jpg width=\"300\" height=\"200\" alt=\"knn2\" align=center>\n",
    "\n",
    "<p align=\"center\">\n",
    "<img src=images/GMM2.jpg width=\"500\" height=\"200\" alt=\"knn2\" align=center>\n",
    "\n",
    "<p align=\"center\">\n",
    "<img src=images/GMM10.jpg width=\"400\" height=\"200\" alt=\"knn2\" align=center>\n",
    "\n",
    "### 1.2 Steps\n",
    "- Step 1: initialize k gaussian distributions;\n",
    "<p align=\"center\">\n",
    "<img src=images/GMM3.jpg width=\"400\" height=\"200\" alt=\"knn2\" align=center>\n",
    "- Step 2: soft-cluster data - 'expectation';\n",
    "<p align=\"center\">\n",
    "<img src=images/GMM4.jpg width=\"400\" height=\"200\" alt=\"knn2\" align=center>\n",
    "- Step 3: re-estimate the gaussians - 'maximization';\n",
    "<p align=\"center\">\n",
    "<img src=images/GMM5.jpg width=\"400\" height=\"200\" alt=\"knn2\" align=center>\n",
    "<p align=\"center\">\n",
    "<img src=images/GMM6.jpg width=\"400\" height=\"200\" alt=\"knn2\" align=center>\n",
    "- Step 4: evaluate log-likelihood to check for convergrnce;\n",
    "<p align=\"center\">\n",
    "<img src=images/GMM7.jpg width=\"500\" height=\"200\" alt=\"knn2\" align=center>\n",
    "- Step 5: repeat from step 2 until convergence.\n",
    "\n",
    "### 1.3 Example\n",
    "There are two things that we need to set ahead:\n",
    "- covariance_type;\n",
    "- initialization.\n",
    "<p align=\"center\">\n",
    "<img src=images/GMM8.jpg width=\"300\" height=\"150\" alt=\"knn2\" align=center>\n",
    "<p align=\"center\">\n",
    "<img src=images/GMM9.jpg width=\"300\" height=\"150\" alt=\"knn2\" align=center>\n",
    "\n",
    "### 1.4 Implementation"
   ],
   "cell_type": "markdown",
   "metadata": {}
  },
  {
   "cell_type": "code",
   "execution_count": 1,
   "metadata": {},
   "outputs": [],
   "source": [
    "from sklearn import datasets, mixture\n",
    "\n",
    "X = datasets.load_iris().data[:10]\n",
    "\n",
    "gmm = mixture.GaussianMixture(n_components=3)\n",
    "gmm.fit(X)\n",
    "clustering = gmm.predict(X)"
   ]
  },
  {
   "source": [
    "### 1.5 Mathematics"
   ],
   "cell_type": "markdown",
   "metadata": {}
  },
  {
   "source": [
    "\n",
    "## 2. Evaluation\n",
    "### 2.1 External indices\n",
    "Matching a clustering structure to information we know beforehand:\n",
    "- Adjusted Rand Score;\n",
    "- Fawlks and Mallows;\n",
    "- NMI measure;\n",
    "- Jaccard;\n",
    "- F-measure;\n",
    "- Purity\n",
    "<p align=\"center\">\n",
    "<img src=images/GMM11.jpg width=\"400\" height=\"200\" alt=\"knn2\" align=center>\n",
    "<p align=\"center\">\n",
    "<img src=images/GMM12.jpg width=\"400\" height=\"150\" alt=\"knn2\" align=center>\n",
    "\n",
    "### 2.2 Internal indices\n",
    "<p align=\"center\">\n",
    "<img src=images/GMM13.jpg width=\"400\" height=\"200\" alt=\"knn2\" align=center>\n",
    "\n",
    "Silhouette coefficient is not always useful:\n",
    "<p align=\"center\">\n",
    "<img src=images/GMM14.jpg width=\"400\" height=\"100\" alt=\"knn2\" align=center>\n",
    "\n",
    "<p align=\"center\">\n",
    "<img src=images/GMM15.jpg width=\"400\" height=\"150\" alt=\"knn2\" align=center>\n",
    "\n",
    "<p align=\"center\">\n",
    "<img src=images/GMM16.jpg width=\"400\" height=\"150\" alt=\"knn2\" align=center>\n",
    "\n",
    "Depending on the original dataset.\n",
    "\n",
    "### 2.3 Relative indices"
   ],
   "cell_type": "markdown",
   "metadata": {}
  },
  {
   "source": [
    "## 3. Application"
   ],
   "cell_type": "markdown",
   "metadata": {}
  },
  {
   "source": [
    "## 4. Pros and cons\n",
    "- Pros:\n",
    "  - soft-clustering (sample membership)\n",
    "  - cluster shape flexibility\n",
    "- Cons:\n",
    "  - sensitive to initialization values\n",
    "  - possible to converge to a local optimum\n",
    "  - slow convergence rate"
   ],
   "cell_type": "markdown",
   "metadata": {}
  }
 ]
}