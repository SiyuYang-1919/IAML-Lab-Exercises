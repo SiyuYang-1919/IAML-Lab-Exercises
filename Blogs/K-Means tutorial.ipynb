{
 "metadata": {
  "language_info": {
   "codemirror_mode": {
    "name": "ipython",
    "version": 3
   },
   "file_extension": ".py",
   "mimetype": "text/x-python",
   "name": "python",
   "nbconvert_exporter": "python",
   "pygments_lexer": "ipython3",
   "version": 3
  },
  "orig_nbformat": 2
 },
 "nbformat": 4,
 "nbformat_minor": 2,
 "cells": [
  {
   "source": [
    "## 1. Types of clustering methods\n",
    "- Goal\n",
    "  - monothetic: cluster members have some common property\n",
    "  - polythetic: cluester members are similar to each other\n",
    "- Overlap\n",
    "  - hard clustering: clusters do not overlap\n",
    "  - soft clustering: clusters may overlap\n",
    "- Flat or hierarchical\n",
    "  - set of groups vs. taxonomy"
   ],
   "cell_type": "markdown",
   "metadata": {}
  },
  {
   "source": [
    "## 2. K-means clustering algorithm\n",
    "### 2.1 What K-means does\n",
    "- Step 1: input K and training examples;\n",
    "- Step 2: place centroids $c_1,...,c_k$ at random locations;\n",
    "\n",
    "------------------Repeat until convergence---------------\n",
    "- Step 3: for each point $x_i$, find the nearest centroid $c_j$ and assign the point $x_i$ to cluster $j$;\n",
    "- Step 4: for each centroid $c_j$, new centroid = mean of all points $x_i$;\n",
    "- Step 5: assign instances to new clusters by finding nearest new centroid.\n",
    "\n",
    "-----Stop when none of the cluster assignment changes----\n",
    "<p align=\"center\">\n",
    "<img src=images/kmeans1.jpg width=\"400\" height=\"300\" alt=\"kmeans\" align=center>\n",
    "\n",
    "### 2.2 Optimization objective\n",
    "$$ \\text{min} J(c^{(1)},...,c^{(m)},\\mu_{1},...\\mu_{k}) $$\n",
    "$$ = \\text{min} \\frac{1}{m} \\sum_{i=1}^m ||x^{(i)}-\\mu_{c^{(i)}}||^2 $$"
   ],
   "cell_type": "markdown",
   "metadata": {}
  },
  {
   "source": [
    "## 3. Issues with K-means\n",
    "### 3.1 Local minimum\n",
    "- Issue: probably converge to a local minimum;\n",
    "- Solution: run several times with random starting points.\n",
    "### 3.2 Choose optimal number of clusters, k\n",
    "- Issue: how to choose k;\n",
    "- Solution: 'elbow method' and examine the purpose of k-means."
   ],
   "cell_type": "markdown",
   "metadata": {}
  },
  {
   "source": [
    "## 4. Evaluation\n",
    "### 4.1 Extrinsic (helps us solve another problem)\n",
    "- Examples:\n",
    "  - represent images with cluster features;\n",
    "  - train different classifier for each sub-population;\n",
    "  - identify and eliminate outliers/corrupted points.\n",
    "- Evaluation: is your problem well solved?\n",
    "### 4.2 Intrinsic (useful in and of itself)\n",
    "- Examples:\n",
    "  - help understand the makeup of our data;\n",
    "  - cluster correspond to classes (align up clusters and reference clusters/classes);\n",
    "<p align=\"center\">\n",
    "<img src=images/kmeans2.jpg width=\"100\" height=\"250\" alt=\"kmeans\" align=center>\n",
    "  - compare to human judgements."
   ],
   "cell_type": "markdown",
   "metadata": {}
  },
  {
   "source": [
    "## 5. Application\n",
    "- image representation\n",
    "<p align=\"center\">\n",
    "<img src=images/kmeans3.jpg width=\"300\" height=\"250\" alt=\"kmeans\" align=center>"
   ],
   "cell_type": "markdown",
   "metadata": {}
  }
 ]
}