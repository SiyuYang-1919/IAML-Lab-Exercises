{
 "metadata": {
  "language_info": {
   "codemirror_mode": {
    "name": "ipython",
    "version": 3
   },
   "file_extension": ".py",
   "mimetype": "text/x-python",
   "name": "python",
   "nbconvert_exporter": "python",
   "pygments_lexer": "ipython3",
   "version": "3.8.5-final"
  },
  "orig_nbformat": 2,
  "kernelspec": {
   "name": "python3",
   "display_name": "Python 3",
   "language": "python"
  }
 },
 "nbformat": 4,
 "nbformat_minor": 2,
 "cells": [
  {
   "cell_type": "code",
   "execution_count": 1,
   "metadata": {},
   "outputs": [],
   "source": [
    "# Import packages\n",
    "import os\n",
    "import numpy as np \n",
    "import pandas as pd\n",
    "import matplotlib.pyplot as plt\n",
    "from sklearn.model_selection import train_test_split\n",
    "from sklearn.linear_model import LinearRegression\n",
    "from sklearn.metrics import accuracy_score, confusion_matrix, r2_score\n",
    "%matplotlib inline"
   ]
  },
  {
   "cell_type": "code",
   "execution_count": 2,
   "metadata": {},
   "outputs": [
    {
     "output_type": "stream",
     "name": "stdout",
     "text": [
      "<class 'pandas.core.frame.DataFrame'>\nRangeIndex: 34857 entries, 0 to 34856\nData columns (total 21 columns):\n #   Column         Non-Null Count  Dtype  \n---  ------         --------------  -----  \n 0   Suburb         34857 non-null  object \n 1   Address        34857 non-null  object \n 2   Rooms          34857 non-null  int64  \n 3   Type           34857 non-null  object \n 4   Price          27247 non-null  float64\n 5   Method         34857 non-null  object \n 6   SellerG        34857 non-null  object \n 7   Date           34857 non-null  object \n 8   Distance       34856 non-null  float64\n 9   Postcode       34856 non-null  float64\n 10  Bedroom2       26640 non-null  float64\n 11  Bathroom       26631 non-null  float64\n 12  Car            26129 non-null  float64\n 13  Landsize       23047 non-null  float64\n 14  BuildingArea   13742 non-null  float64\n 15  YearBuilt      15551 non-null  float64\n 16  CouncilArea    34854 non-null  object \n 17  Lattitude      26881 non-null  float64\n 18  Longtitude     26881 non-null  float64\n 19  Regionname     34854 non-null  object \n 20  Propertycount  34854 non-null  float64\ndtypes: float64(12), int64(1), object(8)\nmemory usage: 5.6+ MB\n"
     ]
    }
   ],
   "source": [
    "url = 'https://raw.githubusercontent.com/uoe-iaml/DL-S2-2021-CW1/main/datasets/Melbourne_housing.csv'\n",
    "aushouse = pd.read_csv(url, delimiter=',')\n",
    "aushouse.info()"
   ]
  },
  {
   "cell_type": "code",
   "execution_count": 3,
   "metadata": {},
   "outputs": [
    {
     "output_type": "stream",
     "name": "stdout",
     "text": [
      "<class 'pandas.core.frame.DataFrame'>\nRangeIndex: 34857 entries, 0 to 34856\nData columns (total 15 columns):\n #   Column         Non-Null Count  Dtype  \n---  ------         --------------  -----  \n 0   Rooms          34857 non-null  int64  \n 1   Price          27247 non-null  float64\n 2   Distance       34856 non-null  float64\n 3   Postcode       34856 non-null  float64\n 4   Bedroom2       26640 non-null  float64\n 5   Bathroom       26631 non-null  float64\n 6   Car            26129 non-null  float64\n 7   Landsize       23047 non-null  float64\n 8   BuildingArea   13742 non-null  float64\n 9   Lattitude      26881 non-null  float64\n 10  Longtitude     26881 non-null  float64\n 11  Propertycount  34854 non-null  float64\n 12  Type_h         34857 non-null  uint8  \n 13  Type_t         34857 non-null  uint8  \n 14  Type_u         34857 non-null  uint8  \ndtypes: float64(11), int64(1), uint8(3)\nmemory usage: 3.3 MB\n"
     ]
    }
   ],
   "source": [
    "# Transform these values to a one-hot-encoding\n",
    "aushouse = pd.get_dummies(aushouse, columns=['Type'])\n",
    "\n",
    "# Remove features that cannot use and 'YearBuilt'\n",
    "not_use = [column for column in aushouse.columns if aushouse[column].dtype == 'O']\n",
    "aushouse.drop(not_use+['YearBuilt'], axis=1, inplace=True)\n",
    "aushouse_new = aushouse.copy(deep=True)\n",
    "\n",
    "# Check the features\n",
    "aushouse.info()"
   ]
  },
  {
   "cell_type": "code",
   "execution_count": 4,
   "metadata": {},
   "outputs": [
    {
     "output_type": "stream",
     "name": "stdout",
     "text": [
      "Total (20401, 9) (20401,)\n"
     ]
    }
   ],
   "source": [
    "# Remove 'BuildingArea' feature to increase our instances\n",
    "aushouse_new.drop(['Postcode', 'Landsize', 'Propertycount', 'Bedroom2', 'BuildingArea'], axis=1, inplace=True)\n",
    "# Remove any instances with missing attribute values\n",
    "aushouse_new.dropna(how='any', inplace=True)\n",
    "# Create X and y\n",
    "X = aushouse_new.drop(['Price'], axis=1)\n",
    "y = aushouse_new['Price']\n",
    "print('Total', X.shape, y.shape)"
   ]
  },
  {
   "cell_type": "code",
   "execution_count": 5,
   "metadata": {},
   "outputs": [
    {
     "output_type": "execute_result",
     "data": {
      "text/plain": [
       "array([ 1.70230631e+05, -4.52257303e+04,  2.21976396e+05,  4.23398902e+04,\n",
       "       -1.59996288e+06,  8.84131871e+05, -1.31065268e+19, -1.31065268e+19,\n",
       "       -1.31065268e+19])"
      ]
     },
     "metadata": {},
     "execution_count": 5
    }
   ],
   "source": [
    "X_train, X_test, y_train, y_test = train_test_split(X, y, train_size=0.8, test_size=0.2, random_state=1)\n",
    "lm1 = LinearRegression(normalize=True).fit(X_train,y_train)\n",
    "lm1.coef_"
   ]
  },
  {
   "cell_type": "code",
   "execution_count": 6,
   "metadata": {},
   "outputs": [
    {
     "output_type": "execute_result",
     "data": {
      "text/plain": [
       "array([  173155.9318304 ,   -45180.27190882,   223058.60848251,\n",
       "          41075.21608809, -1624574.71825128,   877765.00418618,\n",
       "         266488.8675945 ,   -61251.30273618,  -205237.56485831])"
      ]
     },
     "metadata": {},
     "execution_count": 6
    }
   ],
   "source": [
    "X_train, X_test, y_train, y_test = train_test_split(X, y, train_size=0.8, test_size=0.2, random_state=1)\n",
    "lm2 = LinearRegression(normalize=False).fit(X_train,y_train)\n",
    "lm2.coef_"
   ]
  },
  {
   "cell_type": "code",
   "execution_count": 7,
   "metadata": {},
   "outputs": [
    {
     "output_type": "execute_result",
     "data": {
      "text/plain": [
       "(array([115779.75638113,      0.        , 270540.33530682,      0.        ,\n",
       "             0.        ,    382.74309985, 317130.09440096,  72029.03998084,\n",
       "             0.        ]),\n",
       " 70928549.75450137)"
      ]
     },
     "metadata": {},
     "execution_count": 7
    }
   ],
   "source": [
    "from scipy.optimize import nnls\n",
    "nnls(X_train, y_train)"
   ]
  },
  {
   "cell_type": "code",
   "execution_count": 8,
   "metadata": {},
   "outputs": [],
   "source": [
    "def normalize_self(X, y):\n",
    "    #Steps for 'normalize' in the linear regression:\n",
    "    # 1. minus column average value:\n",
    "    X_offset = np.average(X, axis=0)\n",
    "    X -= X_offset\n",
    "    # 2. use the 'normalize' function to normalize X_train_sub further:\n",
    "    # X_train_sub, X_scale = normalize(X_train_sub, axis=0, copy=False, return_norm=True)\n",
    "    # 2.1 if axis=0, transpose X:\n",
    "    X = X.T\n",
    "    # 2.2 calculate the norm of X by 'row_norms' function \n",
    "    # norms = row_norms(X)\n",
    "    # equivalent to:\n",
    "    norms = np.einsum('ij,ij->i', X, X)\n",
    "    norms_square = np.sqrt(norms, norms)\n",
    "    # 2.3 let the X divide by norms_sqaure\n",
    "    X /= norms_square[:, np.newaxis]\n",
    "    # 2.4 transpose X again\n",
    "    X = X.T\n",
    "    y_offset = np.average(y, axis=0)\n",
    "    y = y - y_offset\n",
    "    return X, y"
   ]
  },
  {
   "cell_type": "code",
   "execution_count": 9,
   "metadata": {},
   "outputs": [
    {
     "output_type": "execute_result",
     "data": {
      "text/plain": [
       "array([ 2.04594395e+07, -3.95058620e+07,  2.00654260e+07,  5.13758038e+06,\n",
       "       -1.89706130e+07,  1.35474143e+07, -7.70593496e+20, -4.73124074e+20,\n",
       "       -6.72705113e+20])"
      ]
     },
     "metadata": {},
     "execution_count": 9
    }
   ],
   "source": [
    "lm3 = LinearRegression(normalize=False).fit(normalize_self(X_train, y_train)[0], normalize_self(X_train, y_train)[1])\n",
    "lm3.coef_"
   ]
  },
  {
   "cell_type": "code",
   "execution_count": 11,
   "metadata": {},
   "outputs": [
    {
     "output_type": "execute_result",
     "data": {
      "text/plain": [
       "(          Rooms  Distance  Bathroom       Car  Lattitude  Longtitude  \\\n",
       " 9651  -0.000533 -0.006129 -0.006651 -0.005699  -0.004636   -0.000854   \n",
       " 24684  0.016049  0.009645  0.004486  0.018077   0.000772    0.014505   \n",
       " 8711  -0.008825 -0.000300 -0.006651 -0.005699   0.009210    0.000103   \n",
       " 29400 -0.000533  0.010445  0.004486 -0.005699   0.018963   -0.005799   \n",
       " 5077   0.016049  0.002558  0.004486  0.002226  -0.011843    0.001287   \n",
       " ...         ...       ...       ...       ...        ...         ...   \n",
       " 17932 -0.000533  0.000729 -0.006651  0.002226   0.010076    0.003677   \n",
       " 28853 -0.008825 -0.008187 -0.006651 -0.005699   0.002852   -0.006770   \n",
       " 8589  -0.000533 -0.000300 -0.006651  0.002226   0.007119    0.001571   \n",
       " 19663  0.007758  0.027363  0.004486  0.002226  -0.024663    0.008510   \n",
       " 390    0.016049 -0.005901  0.004486  0.002226  -0.004857    0.001597   \n",
       " \n",
       "          Type_h    Type_t    Type_u  \n",
       " 9651  -0.013699 -0.002240  0.017268  \n",
       " 24684  0.004473 -0.002240 -0.003548  \n",
       " 8711  -0.013699 -0.002240  0.017268  \n",
       " 29400  0.004473 -0.002240 -0.003548  \n",
       " 5077   0.004473 -0.002240 -0.003548  \n",
       " ...         ...       ...       ...  \n",
       " 17932  0.004473 -0.002240 -0.003548  \n",
       " 28853 -0.013699  0.027358 -0.003548  \n",
       " 8589   0.004473 -0.002240 -0.003548  \n",
       " 19663  0.004473 -0.002240 -0.003548  \n",
       " 390    0.004473 -0.002240 -0.003548  \n",
       " \n",
       " [16320 rows x 9 columns],\n",
       " 9651    -366827.551164\n",
       " 24684    219172.448836\n",
       " 8711    -696827.551164\n",
       " 29400   -607577.551164\n",
       " 5077     618172.448836\n",
       "              ...      \n",
       " 17932   -401827.551164\n",
       " 28853   -591827.551164\n",
       " 8589    -416327.551164\n",
       " 19663   -206827.551164\n",
       " 390      438172.448836\n",
       " Name: Price, Length: 16320, dtype: float64)"
      ]
     },
     "metadata": {},
     "execution_count": 11
    }
   ],
   "source": [
    "normalize_self(X_train, y_train)"
   ]
  },
  {
   "cell_type": "code",
   "execution_count": 12,
   "metadata": {},
   "outputs": [
    {
     "output_type": "execute_result",
     "data": {
      "text/plain": [
       "          Rooms  Distance  Bathroom       Car  Lattitude  Longtitude  \\\n",
       "0     -0.011575 -0.964693 -0.107437 -0.129374  -0.009812   -0.002375   \n",
       "1      0.215803  0.940711  0.044909  0.254290   0.001012    0.025009   \n",
       "2     -0.581577 -0.143275 -0.326313 -0.392941   0.059209    0.000873   \n",
       "3     -0.007006  0.995027  0.043863 -0.078306   0.024295   -0.009766   \n",
       "4      0.641283  0.741380  0.133454  0.093056  -0.046164    0.006592   \n",
       "...         ...       ...       ...       ...        ...         ...   \n",
       "16315 -0.065696  0.651252 -0.609782  0.286809   0.121050    0.058068   \n",
       "16316 -0.143820 -0.967799 -0.080695 -0.097171   0.004535   -0.014148   \n",
       "16317 -0.082283 -0.335339 -0.763744  0.359225   0.107120    0.031075   \n",
       "16318  0.039042  0.998856  0.016808  0.011720  -0.012108    0.005492   \n",
       "16319  0.349147 -0.931140  0.072659  0.050665  -0.010307    0.004455   \n",
       "\n",
       "         Type_h    Type_t    Type_u  \n",
       "0     -0.135624 -0.013614  0.149238  \n",
       "1      0.027442 -0.008437 -0.019005  \n",
       "2     -0.411925 -0.041350  0.453275  \n",
       "3      0.026802 -0.008240 -0.018562  \n",
       "4      0.081546 -0.025071 -0.056475  \n",
       "...         ...       ...       ...  \n",
       "16315  0.251333 -0.077271 -0.174063  \n",
       "16316 -0.101866  0.124900 -0.023034  \n",
       "16317  0.314792 -0.096781 -0.218011  \n",
       "16318  0.010271 -0.003158 -0.007113  \n",
       "16319  0.044398 -0.013650 -0.030748  \n",
       "\n",
       "[16320 rows x 9 columns]"
      ],
      "text/html": "<div>\n<style scoped>\n    .dataframe tbody tr th:only-of-type {\n        vertical-align: middle;\n    }\n\n    .dataframe tbody tr th {\n        vertical-align: top;\n    }\n\n    .dataframe thead th {\n        text-align: right;\n    }\n</style>\n<table border=\"1\" class=\"dataframe\">\n  <thead>\n    <tr style=\"text-align: right;\">\n      <th></th>\n      <th>Rooms</th>\n      <th>Distance</th>\n      <th>Bathroom</th>\n      <th>Car</th>\n      <th>Lattitude</th>\n      <th>Longtitude</th>\n      <th>Type_h</th>\n      <th>Type_t</th>\n      <th>Type_u</th>\n    </tr>\n  </thead>\n  <tbody>\n    <tr>\n      <th>0</th>\n      <td>-0.011575</td>\n      <td>-0.964693</td>\n      <td>-0.107437</td>\n      <td>-0.129374</td>\n      <td>-0.009812</td>\n      <td>-0.002375</td>\n      <td>-0.135624</td>\n      <td>-0.013614</td>\n      <td>0.149238</td>\n    </tr>\n    <tr>\n      <th>1</th>\n      <td>0.215803</td>\n      <td>0.940711</td>\n      <td>0.044909</td>\n      <td>0.254290</td>\n      <td>0.001012</td>\n      <td>0.025009</td>\n      <td>0.027442</td>\n      <td>-0.008437</td>\n      <td>-0.019005</td>\n    </tr>\n    <tr>\n      <th>2</th>\n      <td>-0.581577</td>\n      <td>-0.143275</td>\n      <td>-0.326313</td>\n      <td>-0.392941</td>\n      <td>0.059209</td>\n      <td>0.000873</td>\n      <td>-0.411925</td>\n      <td>-0.041350</td>\n      <td>0.453275</td>\n    </tr>\n    <tr>\n      <th>3</th>\n      <td>-0.007006</td>\n      <td>0.995027</td>\n      <td>0.043863</td>\n      <td>-0.078306</td>\n      <td>0.024295</td>\n      <td>-0.009766</td>\n      <td>0.026802</td>\n      <td>-0.008240</td>\n      <td>-0.018562</td>\n    </tr>\n    <tr>\n      <th>4</th>\n      <td>0.641283</td>\n      <td>0.741380</td>\n      <td>0.133454</td>\n      <td>0.093056</td>\n      <td>-0.046164</td>\n      <td>0.006592</td>\n      <td>0.081546</td>\n      <td>-0.025071</td>\n      <td>-0.056475</td>\n    </tr>\n    <tr>\n      <th>...</th>\n      <td>...</td>\n      <td>...</td>\n      <td>...</td>\n      <td>...</td>\n      <td>...</td>\n      <td>...</td>\n      <td>...</td>\n      <td>...</td>\n      <td>...</td>\n    </tr>\n    <tr>\n      <th>16315</th>\n      <td>-0.065696</td>\n      <td>0.651252</td>\n      <td>-0.609782</td>\n      <td>0.286809</td>\n      <td>0.121050</td>\n      <td>0.058068</td>\n      <td>0.251333</td>\n      <td>-0.077271</td>\n      <td>-0.174063</td>\n    </tr>\n    <tr>\n      <th>16316</th>\n      <td>-0.143820</td>\n      <td>-0.967799</td>\n      <td>-0.080695</td>\n      <td>-0.097171</td>\n      <td>0.004535</td>\n      <td>-0.014148</td>\n      <td>-0.101866</td>\n      <td>0.124900</td>\n      <td>-0.023034</td>\n    </tr>\n    <tr>\n      <th>16317</th>\n      <td>-0.082283</td>\n      <td>-0.335339</td>\n      <td>-0.763744</td>\n      <td>0.359225</td>\n      <td>0.107120</td>\n      <td>0.031075</td>\n      <td>0.314792</td>\n      <td>-0.096781</td>\n      <td>-0.218011</td>\n    </tr>\n    <tr>\n      <th>16318</th>\n      <td>0.039042</td>\n      <td>0.998856</td>\n      <td>0.016808</td>\n      <td>0.011720</td>\n      <td>-0.012108</td>\n      <td>0.005492</td>\n      <td>0.010271</td>\n      <td>-0.003158</td>\n      <td>-0.007113</td>\n    </tr>\n    <tr>\n      <th>16319</th>\n      <td>0.349147</td>\n      <td>-0.931140</td>\n      <td>0.072659</td>\n      <td>0.050665</td>\n      <td>-0.010307</td>\n      <td>0.004455</td>\n      <td>0.044398</td>\n      <td>-0.013650</td>\n      <td>-0.030748</td>\n    </tr>\n  </tbody>\n</table>\n<p>16320 rows × 9 columns</p>\n</div>"
     },
     "metadata": {},
     "execution_count": 12
    }
   ],
   "source": [
    "from sklearn.preprocessing import Normalizer\n",
    "transformer = Normalizer().fit(X_train)\n",
    "X_normalize = transformer.transform(X_train)\n",
    "pd.DataFrame(data=X_normalize, columns=X_train.columns)"
   ]
  },
  {
   "cell_type": "code",
   "execution_count": 13,
   "metadata": {},
   "outputs": [
    {
     "output_type": "execute_result",
     "data": {
      "text/plain": [
       "array([  634270.87604601,  -252067.66154557,   410616.93139885,\n",
       "         163113.64159544, -4102122.36399583,  3107704.69824524,\n",
       "         567598.2051451 ,   -49721.41807039,  -517876.78707471])"
      ]
     },
     "metadata": {},
     "execution_count": 13
    }
   ],
   "source": [
    "lm4 = LinearRegression(normalize=False).fit(X_normalize,y_train)\n",
    "lm4.coef_"
   ]
  },
  {
   "cell_type": "code",
   "execution_count": 14,
   "metadata": {},
   "outputs": [],
   "source": [
    "from sklearn.preprocessing import normalize\n",
    "X_offset = np.average(X_train, axis=0)\n",
    "X_train_2 = X_train - X_offset\n",
    "X_train_2, X_scale = normalize(X_train_2, axis=0, copy=False, return_norm=True)"
   ]
  },
  {
   "cell_type": "code",
   "execution_count": 15,
   "metadata": {},
   "outputs": [
    {
     "output_type": "execute_result",
     "data": {
      "text/plain": [
       "          Rooms  Distance  Bathroom       Car  Lattitude  Longtitude  \\\n",
       "0     -0.000533 -0.006129 -0.006651 -0.005699  -0.004636   -0.000854   \n",
       "1      0.016049  0.009645  0.004486  0.018077   0.000772    0.014505   \n",
       "2     -0.008825 -0.000300 -0.006651 -0.005699   0.009210    0.000103   \n",
       "3     -0.000533  0.010445  0.004486 -0.005699   0.018963   -0.005799   \n",
       "4      0.016049  0.002558  0.004486  0.002226  -0.011843    0.001287   \n",
       "...         ...       ...       ...       ...        ...         ...   \n",
       "16315 -0.000533  0.000729 -0.006651  0.002226   0.010076    0.003677   \n",
       "16316 -0.008825 -0.008187 -0.006651 -0.005699   0.002852   -0.006770   \n",
       "16317 -0.000533 -0.000300 -0.006651  0.002226   0.007119    0.001571   \n",
       "16318  0.007758  0.027363  0.004486  0.002226  -0.024663    0.008510   \n",
       "16319  0.016049 -0.005901  0.004486  0.002226  -0.004857    0.001597   \n",
       "\n",
       "         Type_h    Type_t    Type_u  \n",
       "0     -0.013699 -0.002240  0.017268  \n",
       "1      0.004473 -0.002240 -0.003548  \n",
       "2     -0.013699 -0.002240  0.017268  \n",
       "3      0.004473 -0.002240 -0.003548  \n",
       "4      0.004473 -0.002240 -0.003548  \n",
       "...         ...       ...       ...  \n",
       "16315  0.004473 -0.002240 -0.003548  \n",
       "16316 -0.013699  0.027358 -0.003548  \n",
       "16317  0.004473 -0.002240 -0.003548  \n",
       "16318  0.004473 -0.002240 -0.003548  \n",
       "16319  0.004473 -0.002240 -0.003548  \n",
       "\n",
       "[16320 rows x 9 columns]"
      ],
      "text/html": "<div>\n<style scoped>\n    .dataframe tbody tr th:only-of-type {\n        vertical-align: middle;\n    }\n\n    .dataframe tbody tr th {\n        vertical-align: top;\n    }\n\n    .dataframe thead th {\n        text-align: right;\n    }\n</style>\n<table border=\"1\" class=\"dataframe\">\n  <thead>\n    <tr style=\"text-align: right;\">\n      <th></th>\n      <th>Rooms</th>\n      <th>Distance</th>\n      <th>Bathroom</th>\n      <th>Car</th>\n      <th>Lattitude</th>\n      <th>Longtitude</th>\n      <th>Type_h</th>\n      <th>Type_t</th>\n      <th>Type_u</th>\n    </tr>\n  </thead>\n  <tbody>\n    <tr>\n      <th>0</th>\n      <td>-0.000533</td>\n      <td>-0.006129</td>\n      <td>-0.006651</td>\n      <td>-0.005699</td>\n      <td>-0.004636</td>\n      <td>-0.000854</td>\n      <td>-0.013699</td>\n      <td>-0.002240</td>\n      <td>0.017268</td>\n    </tr>\n    <tr>\n      <th>1</th>\n      <td>0.016049</td>\n      <td>0.009645</td>\n      <td>0.004486</td>\n      <td>0.018077</td>\n      <td>0.000772</td>\n      <td>0.014505</td>\n      <td>0.004473</td>\n      <td>-0.002240</td>\n      <td>-0.003548</td>\n    </tr>\n    <tr>\n      <th>2</th>\n      <td>-0.008825</td>\n      <td>-0.000300</td>\n      <td>-0.006651</td>\n      <td>-0.005699</td>\n      <td>0.009210</td>\n      <td>0.000103</td>\n      <td>-0.013699</td>\n      <td>-0.002240</td>\n      <td>0.017268</td>\n    </tr>\n    <tr>\n      <th>3</th>\n      <td>-0.000533</td>\n      <td>0.010445</td>\n      <td>0.004486</td>\n      <td>-0.005699</td>\n      <td>0.018963</td>\n      <td>-0.005799</td>\n      <td>0.004473</td>\n      <td>-0.002240</td>\n      <td>-0.003548</td>\n    </tr>\n    <tr>\n      <th>4</th>\n      <td>0.016049</td>\n      <td>0.002558</td>\n      <td>0.004486</td>\n      <td>0.002226</td>\n      <td>-0.011843</td>\n      <td>0.001287</td>\n      <td>0.004473</td>\n      <td>-0.002240</td>\n      <td>-0.003548</td>\n    </tr>\n    <tr>\n      <th>...</th>\n      <td>...</td>\n      <td>...</td>\n      <td>...</td>\n      <td>...</td>\n      <td>...</td>\n      <td>...</td>\n      <td>...</td>\n      <td>...</td>\n      <td>...</td>\n    </tr>\n    <tr>\n      <th>16315</th>\n      <td>-0.000533</td>\n      <td>0.000729</td>\n      <td>-0.006651</td>\n      <td>0.002226</td>\n      <td>0.010076</td>\n      <td>0.003677</td>\n      <td>0.004473</td>\n      <td>-0.002240</td>\n      <td>-0.003548</td>\n    </tr>\n    <tr>\n      <th>16316</th>\n      <td>-0.008825</td>\n      <td>-0.008187</td>\n      <td>-0.006651</td>\n      <td>-0.005699</td>\n      <td>0.002852</td>\n      <td>-0.006770</td>\n      <td>-0.013699</td>\n      <td>0.027358</td>\n      <td>-0.003548</td>\n    </tr>\n    <tr>\n      <th>16317</th>\n      <td>-0.000533</td>\n      <td>-0.000300</td>\n      <td>-0.006651</td>\n      <td>0.002226</td>\n      <td>0.007119</td>\n      <td>0.001571</td>\n      <td>0.004473</td>\n      <td>-0.002240</td>\n      <td>-0.003548</td>\n    </tr>\n    <tr>\n      <th>16318</th>\n      <td>0.007758</td>\n      <td>0.027363</td>\n      <td>0.004486</td>\n      <td>0.002226</td>\n      <td>-0.024663</td>\n      <td>0.008510</td>\n      <td>0.004473</td>\n      <td>-0.002240</td>\n      <td>-0.003548</td>\n    </tr>\n    <tr>\n      <th>16319</th>\n      <td>0.016049</td>\n      <td>-0.005901</td>\n      <td>0.004486</td>\n      <td>0.002226</td>\n      <td>-0.004857</td>\n      <td>0.001597</td>\n      <td>0.004473</td>\n      <td>-0.002240</td>\n      <td>-0.003548</td>\n    </tr>\n  </tbody>\n</table>\n<p>16320 rows × 9 columns</p>\n</div>"
     },
     "metadata": {},
     "execution_count": 15
    }
   ],
   "source": [
    "pd.DataFrame(data=X_train_2, columns=X_train.columns)"
   ]
  },
  {
   "cell_type": "code",
   "execution_count": 16,
   "metadata": {},
   "outputs": [
    {
     "output_type": "execute_result",
     "data": {
      "text/plain": [
       "array([ 2.06298463e+07, -3.94650261e+07,  2.00132403e+07,  5.17981505e+06,\n",
       "       -1.90042799e+07,  1.35766024e+07, -4.48598796e+20, -2.75427825e+20,\n",
       "       -3.91613355e+20])"
      ]
     },
     "metadata": {},
     "execution_count": 16
    }
   ],
   "source": [
    "lm5 = LinearRegression(normalize=False).fit(X_train_2,y_train)\n",
    "lm5.coef_"
   ]
  },
  {
   "cell_type": "code",
   "execution_count": 11,
   "metadata": {},
   "outputs": [
    {
     "output_type": "execute_result",
     "data": {
      "text/plain": [
       "2"
      ]
     },
     "metadata": {},
     "execution_count": 11
    }
   ],
   "source": [
    "positive = False\n",
    "if positive:\n",
    "    a = 1\n",
    "else:\n",
    "    a = 2\n",
    "a"
   ]
  },
  {
   "cell_type": "code",
   "execution_count": 22,
   "metadata": {},
   "outputs": [
    {
     "output_type": "execute_result",
     "data": {
      "text/plain": [
       "array([ 2.88513040e+07, -4.09472440e+07,  2.13215165e+07,  3.92483011e+06,\n",
       "       -2.34799509e+07,  7.93346442e+06,  1.24482969e+22,  7.64292588e+21,\n",
       "        1.08669916e+22])"
      ]
     },
     "metadata": {},
     "execution_count": 22
    }
   ],
   "source": [
    "coef_, residues, rank_, singular_ = np.linalg.lstsq(X_train_2, y_train)\n",
    "coef_ = coef_.T\n",
    "coef_ = np.ravel(coef_)\n",
    "coef_"
   ]
  },
  {
   "cell_type": "code",
   "execution_count": null,
   "metadata": {},
   "outputs": [],
   "source": []
  }
 ]
}